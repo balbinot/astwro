{
 "cells": [
  {
   "cell_type": "markdown",
   "metadata": {
    "slideshow": {
     "slide_type": "slide"
    }
   },
   "source": [
    "# Deriving a Point Spread Function an a Crowded Field\n",
    "### ...following Appendix III of Peter Stetson's *User's Manual for DAOPHOT II*\n",
    "### Using `pydaophot` form `astwro` python package"
   ]
  },
  {
   "cell_type": "markdown",
   "metadata": {},
   "source": [
    "All *italic* text here have been taken from Ststson's manual."
   ]
  },
  {
   "cell_type": "markdown",
   "metadata": {},
   "source": [
    "The only input file for this procedure is a FITS file containing reference frame image. Here we use sample FITS form astwro package (NGC6871 I filter 20s frame). Below we get filepath for this image, as well as instance `DPRunner` and `ASRunner` objects - wrappers around `(s)daophot` and `(s)allstar` respectively.\n",
    "\n",
    "One can also provide `daophot.opt`, `photo.opt` and `allstar.opt` in apropiriete constructors. Here default, build in, `opt` files are used."
   ]
  },
  {
   "cell_type": "code",
   "execution_count": 1,
   "metadata": {
    "collapsed": false
   },
   "outputs": [],
   "source": [
    "from astwro.sampledata import fits_image\n",
    "frame = fits_image()"
   ]
  },
  {
   "cell_type": "code",
   "execution_count": 2,
   "metadata": {
    "collapsed": true
   },
   "outputs": [],
   "source": [
    "from astwro.pydaophot import daophot, allstar\n",
    "dp = daophot(image_file=frame)\n",
    "al = allstar(dir=dp.dir)"
   ]
  },
  {
   "cell_type": "markdown",
   "metadata": {},
   "source": [
    "Daophot got FITS file in construction, which will be automatically **ATTACH**ed. Wrapper created temporary working directory (one can provide it's own via `dir` parameter).\n",
    "\n",
    "Allstar got working dir from daophot to share."
   ]
  },
  {
   "cell_type": "markdown",
   "metadata": {},
   "source": [
    "#### *(1) Run FIND on your frame*"
   ]
  },
  {
   "cell_type": "code",
   "execution_count": 3,
   "metadata": {
    "collapsed": false
   },
   "outputs": [
    {
     "data": {
      "text/plain": [
       "<astwro.pydaophot.OutputProviders.DpOp_FInd at 0x105df5ed0>"
      ]
     },
     "execution_count": 3,
     "metadata": {},
     "output_type": "execute_result"
    }
   ],
   "source": [
    "dp.FInd(frames_av=1, frames_sum=1)"
   ]
  },
  {
   "cell_type": "markdown",
   "metadata": {},
   "source": [
    "FInd parameters `Number of frames averaged, summed` are defaulted to `1,1`, below are provided for clearity."
   ]
  },
  {
   "cell_type": "markdown",
   "metadata": {},
   "source": [
    "#### *(2) Run PHOTOMETRY on your frame*"
   ]
  },
  {
   "cell_type": "code",
   "execution_count": 4,
   "metadata": {
    "collapsed": false
   },
   "outputs": [
    {
     "data": {
      "text/plain": [
       "<astwro.pydaophot.OutputProviders.DpOp_PHotometry at 0x105df5e90>"
      ]
     },
     "execution_count": 4,
     "metadata": {},
     "output_type": "execute_result"
    }
   ],
   "source": [
    "dp.PHotometry()"
   ]
  },
  {
   "cell_type": "markdown",
   "metadata": {},
   "source": [
    "#### *(3) SORT the output from PHOTOMETRY*\n",
    "*in order of increasing apparent magnitude  decreasing\n",
    "stellar brightness   with the renumbering feature.  This step is optional  but it can be more convenient than not.*"
   ]
  },
  {
   "cell_type": "markdown",
   "metadata": {},
   "source": [
    "`SORT` command id not implemented (yet) in `pydaohot`, so we skip it."
   ]
  },
  {
   "cell_type": "markdown",
   "metadata": {},
   "source": [
    "#### *(4) PICK to generate a set of likely PSF stars*  \n",
    "*How many stars you want to use is a function of the degree of variation you exp ect  and the frequency with which stars are contaminated by cosmic rays or neighbor stars. [...]*"
   ]
  },
  {
   "cell_type": "code",
   "execution_count": 5,
   "metadata": {
    "collapsed": false
   },
   "outputs": [
    {
     "data": {
      "text/plain": [
       "<astwro.pydaophot.OutputProviders.DpOp_PIck at 0x105dc85d0>"
      ]
     },
     "execution_count": 5,
     "metadata": {},
     "output_type": "execute_result"
    }
   ],
   "source": [
    "dp.PIck(faintest_mag=20, number_of_stars_to_pick=40)"
   ]
  },
  {
   "cell_type": "markdown",
   "metadata": {},
   "source": [
    "** No daophot command was executed yet! **"
   ]
  },
  {
   "cell_type": "markdown",
   "metadata": {},
   "source": [
    "All daophot commands were stacked up in DPRunner command buffer, and not executed yet! Let it run, it can take a while."
   ]
  },
  {
   "cell_type": "code",
   "execution_count": 6,
   "metadata": {
    "collapsed": false
   },
   "outputs": [],
   "source": [
    "dp.run()"
   ]
  },
  {
   "cell_type": "markdown",
   "metadata": {
    "collapsed": false
   },
   "source": [
    "If no error reported, symlink to image file (renamed to `i.fits`), and all daophot otput files (`i.*`) are  in the working directory of runner:"
   ]
  },
  {
   "cell_type": "code",
   "execution_count": 7,
   "metadata": {
    "collapsed": false
   },
   "outputs": [
    {
     "name": "stdout",
     "output_type": "stream",
     "text": [
      "allstar.opt  i.ap         \u001b[35mi.fits\u001b[m\u001b[m@      photo.opt\r\n",
      "daophot.opt  i.coo        i.lst\r\n"
     ]
    }
   ],
   "source": [
    "ls $dp.dir"
   ]
  },
  {
   "cell_type": "markdown",
   "metadata": {},
   "source": [
    "One may examine and improve `i.lst` list of PSF stars. Or use `astwro.tools.gapick.py` to obtain list of PSF stars optimized by genetic algorithm."
   ]
  },
  {
   "cell_type": "markdown",
   "metadata": {},
   "source": [
    "Also, we chan check results of executed command, which was preinted to sceen by daophot. For each command `XXX` there is `XXX_result` memeber of runner."
   ]
  },
  {
   "cell_type": "code",
   "execution_count": 8,
   "metadata": {
    "collapsed": false
   },
   "outputs": [
    {
     "name": "stdout",
     "output_type": "stream",
     "text": [
      "Star mode: 12.665. FIND found 4166 stars. 40 was picked by PICK\n"
     ]
    }
   ],
   "source": [
    "print ('Star mode: {}. FIND found {} stars. {} was picked by PICK'.format(\n",
    "        dp.FInd_result.sky,\n",
    "        dp.FInd_result.stars,\n",
    "        dp.PIck_result.stars\n",
    "    ))"
   ]
  },
  {
   "cell_type": "markdown",
   "metadata": {},
   "source": [
    "####  *(5) Run PSF *\n",
    "*tell it the name of your complete  (sorted  renumbered)  aperture photometry  file,  the name of the  file with the list of PSF stars,  and the name of the disk  file you want the point spread function stored in (the default should be  fine) [...]*\n",
    "\n",
    "*If the frame is crowded  it is probably worth your while to generate the  first PSF with the  \"VARIABLE PSF\"  option set to -1 ---  pure analytic PSF.  That way,  the companions will not generate ghosts in the model PSF that will come back to haunt you later.  You should also have specified a reasonably generous  fitting radius ---  these stars have been preselected to be as isolated as possible  and you want the best  fits you can get.  But remember to avoid letting neighbor stars intrude within one  fitting radius of the center of any PSF star.*\n"
   ]
  },
  {
   "cell_type": "markdown",
   "metadata": {},
   "source": [
    "For illustration we will simulate temporary change of `VARIABLE PSF` option, but giving it default value `2` which works good on smaple image. Chages made by `OPTION` command are valid only for next run."
   ]
  },
  {
   "cell_type": "code",
   "execution_count": 9,
   "metadata": {
    "collapsed": false
   },
   "outputs": [],
   "source": [
    "dp.OPtion('VARIABLE PSF', 2)\n",
    "dp.PSf()\n",
    "dp.run()"
   ]
  },
  {
   "cell_type": "markdown",
   "metadata": {},
   "source": [
    "#### *(6) Run GROUP and NSTAR or ALLSTAR on your NEI  file*\n",
    "*If your PSF stars have many neighbors this may take some minutes of real time.  Please be patient  or submit it as a batch job and perform steps       on your next frame while you wait.*"
   ]
  },
  {
   "cell_type": "markdown",
   "metadata": {},
   "source": [
    "We use `allstar`. (`GROUP` and `NSTAR` command are not implemented in current version of `pydaophot`). We use prepared above `ASRunner`, `al` opereating on the same workdir. By default `ASRunner` operates on all stars list `i.coo`, so we have to provide it with NEI file (using predefined constants `fname` with filenames scheme used in working dir)."
   ]
  },
  {
   "cell_type": "code",
   "execution_count": 10,
   "metadata": {
    "collapsed": false
   },
   "outputs": [],
   "source": [
    "from astwro.pydaophot import fname\n",
    "al.input_file = fname.NEI_FILE\n",
    "al.run()"
   ]
  },
  {
   "cell_type": "markdown",
   "metadata": {},
   "source": [
    "All `result` objects, has `get_buffer()` method, usefull to check unparsed `daophot/allstar` output:"
   ]
  },
  {
   "cell_type": "code",
   "execution_count": 11,
   "metadata": {
    "collapsed": false
   },
   "outputs": [
    {
     "name": "stdout",
     "output_type": "stream",
     "text": [
      "     i...                                    \n",
      "\n",
      "\n",
      "                                      Picture size:   1250  1150\n",
      "\n",
      "\n",
      "                 File with the PSF (default i.psf):                          Input file (default i.ap):                   File for results (default i.als):             Name for subtracted image (default is): \n",
      "     916 stars.  <<\n",
      "\n",
      "\n",
      " I = iteration number\n",
      "\n",
      " R = number of stars that remain\n",
      "\n",
      " D = number of stars that disappeared\n",
      "\n",
      " C = number of stars that converged\n",
      "\n",
      "\n",
      "\n",
      "      I       R       D       C\n",
      "      1     916       0       0  <<\n",
      "      2     916       0       0  <<\n",
      "      3     916       0       0  <<\n",
      "      4     726       0     190  <<\n",
      "      5     385       0     531  <<\n",
      "      6     211       0     705  <<\n",
      "      7     108       0     808  <<\n",
      "      8      67       0     849  <<\n",
      "      9      41       0     875  <<\n",
      "     10       0       0     916\n",
      "\n",
      "     Finished i                                       \u0007\n",
      "\n",
      "\n",
      " Good bye.\n",
      "\n",
      "\n"
     ]
    }
   ],
   "source": [
    "print (al.result.get_buffer())"
   ]
  },
  {
   "cell_type": "markdown",
   "metadata": {},
   "source": [
    "#### *(8) EXIT from DAOPHOT and send this new picture to the image display * \n",
    "*Examine each of the PSF stars and its environs.  Have all of the PSF stars subtracted out more or less cleanly,  or should some of them be rejected from further use as PSF stars?  (If so  use a text editor to delete these stars from the  LST  file.)   Have the neighbors mostly disappeared,  or have they left behind big zits?  Have you uncovered any faint companions that FIND missed?[...]* "
   ]
  },
  {
   "cell_type": "markdown",
   "metadata": {},
   "source": [
    "The path to substracted file for inspection can be obtained by `file_from_working_dir` method."
   ]
  },
  {
   "cell_type": "code",
   "execution_count": 13,
   "metadata": {
    "collapsed": true
   },
   "outputs": [],
   "source": [
    "sub_img = dp.file_from_working_dir(fname.SUBTRACTED_IMAGE_FILE)"
   ]
  },
  {
   "cell_type": "code",
   "execution_count": 16,
   "metadata": {
    "collapsed": false
   },
   "outputs": [
    {
     "name": "stdout",
     "output_type": "stream",
     "text": [
      "/var/folders/0d/0cwxd3cx34l7cqbb_74zczqw0000gp/T/pydaophot_tmp0JlVcW/i.sub.fits\n"
     ]
    }
   ],
   "source": [
    "# One can run ds9 directly from notebook:\n",
    "# !ds9 $sub_img\n",
    "print sub_img"
   ]
  },
  {
   "cell_type": "markdown",
   "metadata": {},
   "source": [
    "#### *(9) Back in DAOPHOT II  ATTACH the original picture and run SUBSTAR*\n",
    "*specifying the  file created in step (6) or in step (8f) as the stars to subtract,  and the stars in the  LST  file as the stars to keep.  You have now created a new picture which has the PSF stars still in it  but from which the known neighbors of these PSF stars have been mostly removed*"
   ]
  },
  {
   "cell_type": "code",
   "execution_count": null,
   "metadata": {
    "collapsed": true
   },
   "outputs": [],
   "source": [
    "do.SUbstract(substract=fname.ALS_FILE, keep=fname.LST_FILE)"
   ]
  },
  {
   "cell_type": "markdown",
   "metadata": {},
   "source": [
    "IMPLEMENT SUB jak wyżej!"
   ]
  },
  {
   "cell_type": "markdown",
   "metadata": {},
   "source": []
  },
  {
   "cell_type": "markdown",
   "metadata": {},
   "source": []
  },
  {
   "cell_type": "code",
   "execution_count": null,
   "metadata": {
    "collapsed": true
   },
   "outputs": [],
   "source": []
  },
  {
   "cell_type": "code",
   "execution_count": 21,
   "metadata": {
    "collapsed": false
   },
   "outputs": [
    {
     "data": {
      "text/plain": [
       "'/var/folders/0d/0cwxd3cx34l7cqbb_74zczqw0000gp/T/pydaophot_tmpsbcLfR/i.sub.fits'"
      ]
     },
     "execution_count": 21,
     "metadata": {},
     "output_type": "execute_result"
    }
   ],
   "source": []
  },
  {
   "cell_type": "markdown",
   "metadata": {},
   "source": [
    "dp.file_from_working_dir(fname.SUBTRACTED_IMAGE_FILE)"
   ]
  },
  {
   "cell_type": "markdown",
   "metadata": {},
   "source": []
  },
  {
   "cell_type": "code",
   "execution_count": 19,
   "metadata": {
    "collapsed": false
   },
   "outputs": [
    {
     "name": "stdout",
     "output_type": "stream",
     "text": [
      "allstar.opt  i.als        i.coo        \u001b[35mi.fits\u001b[m\u001b[m@      i.nei        is.fits\r\n",
      "daophot.opt  i.ap         i.err        i.lst        i.psf        photo.opt\r\n"
     ]
    }
   ],
   "source": [
    "ls $al.dir"
   ]
  },
  {
   "cell_type": "code",
   "execution_count": null,
   "metadata": {
    "collapsed": true
   },
   "outputs": [],
   "source": []
  }
 ],
 "metadata": {
  "kernelspec": {
   "display_name": "Python 2",
   "language": "python",
   "name": "python2"
  },
  "language_info": {
   "codemirror_mode": {
    "name": "ipython",
    "version": 2
   },
   "file_extension": ".py",
   "mimetype": "text/x-python",
   "name": "python",
   "nbconvert_exporter": "python",
   "pygments_lexer": "ipython2",
   "version": "2.7.12"
  }
 },
 "nbformat": 4,
 "nbformat_minor": 0
}
